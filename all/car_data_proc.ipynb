{
 "cells": [
  {
   "cell_type": "markdown",
   "id": "eb729ce4",
   "metadata": {},
   "source": [
    "# 一、数据预处理"
   ]
  },
  {
   "cell_type": "markdown",
   "id": "31064a54",
   "metadata": {},
   "source": [
    "## 1.数据总体概览"
   ]
  },
  {
   "cell_type": "code",
   "execution_count": 1,
   "id": "d99a0c94",
   "metadata": {},
   "outputs": [],
   "source": [
    "#导入库\n",
    "import numpy as np\n",
    "import pandas as pd\n",
    "import matplotlib.pyplot as plt\n",
    "\n",
    "import missingno as msno\n",
    "import seaborn as sns\n",
    "'''\n",
    "我认为有意义的列:\n",
    "    int:\n",
    "        price\n",
    "        powerPS\n",
    "        kilometer\n",
    "        car_month(计算得到大概的)\n",
    "        \n",
    "    object:\n",
    "        vehicleType\n",
    "            limousine 豪华轿车？\n",
    "            kleinwagen 小型车\n",
    "            kombi 小客车\n",
    "            bus\n",
    "            cabrio 敞篷？\n",
    "            coupe 双门车\n",
    "            suv 运动型多功能\n",
    "            andere 其他\n",
    "        gearbox\n",
    "            manuell\n",
    "            automatik\n",
    "        model\n",
    "            \n",
    "        fuelType\n",
    "            benzi\n",
    "            diesel\n",
    "            lpg\n",
    "            cng\n",
    "            hybrid\n",
    "            andere\n",
    "            elektro\n",
    "        brand\n",
    "            \n",
    "        notRepairedDamage\n",
    "            nein\n",
    "            ja\n",
    "    \n",
    "'''\n",
    "#读入文件\n",
    "df = pd.read_csv('d:/dataset4/autos.csv', encoding='ISO-8859-1', sep=',')"
   ]
  },
  {
   "cell_type": "code",
   "execution_count": 2,
   "id": "42229780",
   "metadata": {},
   "outputs": [
    {
     "name": "stdout",
     "output_type": "stream",
     "text": [
      "<class 'pandas.core.frame.DataFrame'>\n",
      "RangeIndex: 371528 entries, 0 to 371527\n",
      "Data columns (total 20 columns):\n",
      " #   Column               Non-Null Count   Dtype \n",
      "---  ------               --------------   ----- \n",
      " 0   dateCrawled          371528 non-null  object\n",
      " 1   name                 371528 non-null  object\n",
      " 2   seller               371528 non-null  object\n",
      " 3   offerType            371528 non-null  object\n",
      " 4   price                371528 non-null  int64 \n",
      " 5   abtest               371528 non-null  object\n",
      " 6   vehicleType          333659 non-null  object\n",
      " 7   yearOfRegistration   371528 non-null  int64 \n",
      " 8   gearbox              351319 non-null  object\n",
      " 9   powerPS              371528 non-null  int64 \n",
      " 10  model                351044 non-null  object\n",
      " 11  kilometer            371528 non-null  int64 \n",
      " 12  monthOfRegistration  371528 non-null  int64 \n",
      " 13  fuelType             338142 non-null  object\n",
      " 14  brand                371528 non-null  object\n",
      " 15  notRepairedDamage    299468 non-null  object\n",
      " 16  dateCreated          371528 non-null  object\n",
      " 17  nrOfPictures         371528 non-null  int64 \n",
      " 18  postalCode           371528 non-null  int64 \n",
      " 19  lastSeen             371528 non-null  object\n",
      "dtypes: int64(7), object(13)\n",
      "memory usage: 56.7+ MB\n"
     ]
    }
   ],
   "source": [
    "df.info()"
   ]
  },
  {
   "cell_type": "code",
   "execution_count": 3,
   "id": "8da175af",
   "metadata": {},
   "outputs": [
    {
     "data": {
      "text/plain": [
       "(371528, 20)"
      ]
     },
     "execution_count": 3,
     "metadata": {},
     "output_type": "execute_result"
    }
   ],
   "source": [
    "df.shape"
   ]
  },
  {
   "cell_type": "code",
   "execution_count": 4,
   "id": "e344c53e",
   "metadata": {},
   "outputs": [
    {
     "data": {
      "text/html": [
       "<div>\n",
       "<style scoped>\n",
       "    .dataframe tbody tr th:only-of-type {\n",
       "        vertical-align: middle;\n",
       "    }\n",
       "\n",
       "    .dataframe tbody tr th {\n",
       "        vertical-align: top;\n",
       "    }\n",
       "\n",
       "    .dataframe thead th {\n",
       "        text-align: right;\n",
       "    }\n",
       "</style>\n",
       "<table border=\"1\" class=\"dataframe\">\n",
       "  <thead>\n",
       "    <tr style=\"text-align: right;\">\n",
       "      <th></th>\n",
       "      <th>dateCrawled</th>\n",
       "      <th>name</th>\n",
       "      <th>seller</th>\n",
       "      <th>offerType</th>\n",
       "      <th>price</th>\n",
       "      <th>abtest</th>\n",
       "      <th>vehicleType</th>\n",
       "      <th>yearOfRegistration</th>\n",
       "      <th>gearbox</th>\n",
       "      <th>powerPS</th>\n",
       "      <th>model</th>\n",
       "      <th>kilometer</th>\n",
       "      <th>monthOfRegistration</th>\n",
       "      <th>fuelType</th>\n",
       "      <th>brand</th>\n",
       "      <th>notRepairedDamage</th>\n",
       "      <th>dateCreated</th>\n",
       "      <th>nrOfPictures</th>\n",
       "      <th>postalCode</th>\n",
       "      <th>lastSeen</th>\n",
       "    </tr>\n",
       "  </thead>\n",
       "  <tbody>\n",
       "    <tr>\n",
       "      <th>0</th>\n",
       "      <td>2016-03-24 11:52:17</td>\n",
       "      <td>Golf_3_1.6</td>\n",
       "      <td>privat</td>\n",
       "      <td>Angebot</td>\n",
       "      <td>480</td>\n",
       "      <td>test</td>\n",
       "      <td>NaN</td>\n",
       "      <td>1993</td>\n",
       "      <td>manuell</td>\n",
       "      <td>0</td>\n",
       "      <td>golf</td>\n",
       "      <td>150000</td>\n",
       "      <td>0</td>\n",
       "      <td>benzin</td>\n",
       "      <td>volkswagen</td>\n",
       "      <td>NaN</td>\n",
       "      <td>2016-03-24 00:00:00</td>\n",
       "      <td>0</td>\n",
       "      <td>70435</td>\n",
       "      <td>2016-04-07 03:16:57</td>\n",
       "    </tr>\n",
       "    <tr>\n",
       "      <th>1</th>\n",
       "      <td>2016-03-24 10:58:45</td>\n",
       "      <td>A5_Sportback_2.7_Tdi</td>\n",
       "      <td>privat</td>\n",
       "      <td>Angebot</td>\n",
       "      <td>18300</td>\n",
       "      <td>test</td>\n",
       "      <td>coupe</td>\n",
       "      <td>2011</td>\n",
       "      <td>manuell</td>\n",
       "      <td>190</td>\n",
       "      <td>NaN</td>\n",
       "      <td>125000</td>\n",
       "      <td>5</td>\n",
       "      <td>diesel</td>\n",
       "      <td>audi</td>\n",
       "      <td>ja</td>\n",
       "      <td>2016-03-24 00:00:00</td>\n",
       "      <td>0</td>\n",
       "      <td>66954</td>\n",
       "      <td>2016-04-07 01:46:50</td>\n",
       "    </tr>\n",
       "    <tr>\n",
       "      <th>2</th>\n",
       "      <td>2016-03-14 12:52:21</td>\n",
       "      <td>Jeep_Grand_Cherokee_\"Overland\"</td>\n",
       "      <td>privat</td>\n",
       "      <td>Angebot</td>\n",
       "      <td>9800</td>\n",
       "      <td>test</td>\n",
       "      <td>suv</td>\n",
       "      <td>2004</td>\n",
       "      <td>automatik</td>\n",
       "      <td>163</td>\n",
       "      <td>grand</td>\n",
       "      <td>125000</td>\n",
       "      <td>8</td>\n",
       "      <td>diesel</td>\n",
       "      <td>jeep</td>\n",
       "      <td>NaN</td>\n",
       "      <td>2016-03-14 00:00:00</td>\n",
       "      <td>0</td>\n",
       "      <td>90480</td>\n",
       "      <td>2016-04-05 12:47:46</td>\n",
       "    </tr>\n",
       "    <tr>\n",
       "      <th>3</th>\n",
       "      <td>2016-03-17 16:54:04</td>\n",
       "      <td>GOLF_4_1_4__3TÜRER</td>\n",
       "      <td>privat</td>\n",
       "      <td>Angebot</td>\n",
       "      <td>1500</td>\n",
       "      <td>test</td>\n",
       "      <td>kleinwagen</td>\n",
       "      <td>2001</td>\n",
       "      <td>manuell</td>\n",
       "      <td>75</td>\n",
       "      <td>golf</td>\n",
       "      <td>150000</td>\n",
       "      <td>6</td>\n",
       "      <td>benzin</td>\n",
       "      <td>volkswagen</td>\n",
       "      <td>nein</td>\n",
       "      <td>2016-03-17 00:00:00</td>\n",
       "      <td>0</td>\n",
       "      <td>91074</td>\n",
       "      <td>2016-03-17 17:40:17</td>\n",
       "    </tr>\n",
       "    <tr>\n",
       "      <th>4</th>\n",
       "      <td>2016-03-31 17:25:20</td>\n",
       "      <td>Skoda_Fabia_1.4_TDI_PD_Classic</td>\n",
       "      <td>privat</td>\n",
       "      <td>Angebot</td>\n",
       "      <td>3600</td>\n",
       "      <td>test</td>\n",
       "      <td>kleinwagen</td>\n",
       "      <td>2008</td>\n",
       "      <td>manuell</td>\n",
       "      <td>69</td>\n",
       "      <td>fabia</td>\n",
       "      <td>90000</td>\n",
       "      <td>7</td>\n",
       "      <td>diesel</td>\n",
       "      <td>skoda</td>\n",
       "      <td>nein</td>\n",
       "      <td>2016-03-31 00:00:00</td>\n",
       "      <td>0</td>\n",
       "      <td>60437</td>\n",
       "      <td>2016-04-06 10:17:21</td>\n",
       "    </tr>\n",
       "    <tr>\n",
       "      <th>371523</th>\n",
       "      <td>2016-03-14 17:48:27</td>\n",
       "      <td>Suche_t4___vito_ab_6_sitze</td>\n",
       "      <td>privat</td>\n",
       "      <td>Angebot</td>\n",
       "      <td>2200</td>\n",
       "      <td>test</td>\n",
       "      <td>NaN</td>\n",
       "      <td>2005</td>\n",
       "      <td>NaN</td>\n",
       "      <td>0</td>\n",
       "      <td>NaN</td>\n",
       "      <td>20000</td>\n",
       "      <td>1</td>\n",
       "      <td>NaN</td>\n",
       "      <td>sonstige_autos</td>\n",
       "      <td>NaN</td>\n",
       "      <td>2016-03-14 00:00:00</td>\n",
       "      <td>0</td>\n",
       "      <td>39576</td>\n",
       "      <td>2016-04-06 00:46:52</td>\n",
       "    </tr>\n",
       "    <tr>\n",
       "      <th>371524</th>\n",
       "      <td>2016-03-05 19:56:21</td>\n",
       "      <td>Smart_smart_leistungssteigerung_100ps</td>\n",
       "      <td>privat</td>\n",
       "      <td>Angebot</td>\n",
       "      <td>1199</td>\n",
       "      <td>test</td>\n",
       "      <td>cabrio</td>\n",
       "      <td>2000</td>\n",
       "      <td>automatik</td>\n",
       "      <td>101</td>\n",
       "      <td>fortwo</td>\n",
       "      <td>125000</td>\n",
       "      <td>3</td>\n",
       "      <td>benzin</td>\n",
       "      <td>smart</td>\n",
       "      <td>nein</td>\n",
       "      <td>2016-03-05 00:00:00</td>\n",
       "      <td>0</td>\n",
       "      <td>26135</td>\n",
       "      <td>2016-03-11 18:17:12</td>\n",
       "    </tr>\n",
       "    <tr>\n",
       "      <th>371525</th>\n",
       "      <td>2016-03-19 18:57:12</td>\n",
       "      <td>Volkswagen_Multivan_T4_TDI_7DC_UY2</td>\n",
       "      <td>privat</td>\n",
       "      <td>Angebot</td>\n",
       "      <td>9200</td>\n",
       "      <td>test</td>\n",
       "      <td>bus</td>\n",
       "      <td>1996</td>\n",
       "      <td>manuell</td>\n",
       "      <td>102</td>\n",
       "      <td>transporter</td>\n",
       "      <td>150000</td>\n",
       "      <td>3</td>\n",
       "      <td>diesel</td>\n",
       "      <td>volkswagen</td>\n",
       "      <td>nein</td>\n",
       "      <td>2016-03-19 00:00:00</td>\n",
       "      <td>0</td>\n",
       "      <td>87439</td>\n",
       "      <td>2016-04-07 07:15:26</td>\n",
       "    </tr>\n",
       "    <tr>\n",
       "      <th>371526</th>\n",
       "      <td>2016-03-20 19:41:08</td>\n",
       "      <td>VW_Golf_Kombi_1_9l_TDI</td>\n",
       "      <td>privat</td>\n",
       "      <td>Angebot</td>\n",
       "      <td>3400</td>\n",
       "      <td>test</td>\n",
       "      <td>kombi</td>\n",
       "      <td>2002</td>\n",
       "      <td>manuell</td>\n",
       "      <td>100</td>\n",
       "      <td>golf</td>\n",
       "      <td>150000</td>\n",
       "      <td>6</td>\n",
       "      <td>diesel</td>\n",
       "      <td>volkswagen</td>\n",
       "      <td>NaN</td>\n",
       "      <td>2016-03-20 00:00:00</td>\n",
       "      <td>0</td>\n",
       "      <td>40764</td>\n",
       "      <td>2016-03-24 12:45:21</td>\n",
       "    </tr>\n",
       "    <tr>\n",
       "      <th>371527</th>\n",
       "      <td>2016-03-07 19:39:19</td>\n",
       "      <td>BMW_M135i_vollausgestattet_NP_52.720____Euro</td>\n",
       "      <td>privat</td>\n",
       "      <td>Angebot</td>\n",
       "      <td>28990</td>\n",
       "      <td>control</td>\n",
       "      <td>limousine</td>\n",
       "      <td>2013</td>\n",
       "      <td>manuell</td>\n",
       "      <td>320</td>\n",
       "      <td>m_reihe</td>\n",
       "      <td>50000</td>\n",
       "      <td>8</td>\n",
       "      <td>benzin</td>\n",
       "      <td>bmw</td>\n",
       "      <td>nein</td>\n",
       "      <td>2016-03-07 00:00:00</td>\n",
       "      <td>0</td>\n",
       "      <td>73326</td>\n",
       "      <td>2016-03-22 03:17:10</td>\n",
       "    </tr>\n",
       "  </tbody>\n",
       "</table>\n",
       "</div>"
      ],
      "text/plain": [
       "                dateCrawled                                          name  \\\n",
       "0       2016-03-24 11:52:17                                    Golf_3_1.6   \n",
       "1       2016-03-24 10:58:45                          A5_Sportback_2.7_Tdi   \n",
       "2       2016-03-14 12:52:21                Jeep_Grand_Cherokee_\"Overland\"   \n",
       "3       2016-03-17 16:54:04                            GOLF_4_1_4__3TÜRER   \n",
       "4       2016-03-31 17:25:20                Skoda_Fabia_1.4_TDI_PD_Classic   \n",
       "371523  2016-03-14 17:48:27                    Suche_t4___vito_ab_6_sitze   \n",
       "371524  2016-03-05 19:56:21         Smart_smart_leistungssteigerung_100ps   \n",
       "371525  2016-03-19 18:57:12            Volkswagen_Multivan_T4_TDI_7DC_UY2   \n",
       "371526  2016-03-20 19:41:08                        VW_Golf_Kombi_1_9l_TDI   \n",
       "371527  2016-03-07 19:39:19  BMW_M135i_vollausgestattet_NP_52.720____Euro   \n",
       "\n",
       "        seller offerType  price   abtest vehicleType  yearOfRegistration  \\\n",
       "0       privat   Angebot    480     test         NaN                1993   \n",
       "1       privat   Angebot  18300     test       coupe                2011   \n",
       "2       privat   Angebot   9800     test         suv                2004   \n",
       "3       privat   Angebot   1500     test  kleinwagen                2001   \n",
       "4       privat   Angebot   3600     test  kleinwagen                2008   \n",
       "371523  privat   Angebot   2200     test         NaN                2005   \n",
       "371524  privat   Angebot   1199     test      cabrio                2000   \n",
       "371525  privat   Angebot   9200     test         bus                1996   \n",
       "371526  privat   Angebot   3400     test       kombi                2002   \n",
       "371527  privat   Angebot  28990  control   limousine                2013   \n",
       "\n",
       "          gearbox  powerPS        model  kilometer  monthOfRegistration  \\\n",
       "0         manuell        0         golf     150000                    0   \n",
       "1         manuell      190          NaN     125000                    5   \n",
       "2       automatik      163        grand     125000                    8   \n",
       "3         manuell       75         golf     150000                    6   \n",
       "4         manuell       69        fabia      90000                    7   \n",
       "371523        NaN        0          NaN      20000                    1   \n",
       "371524  automatik      101       fortwo     125000                    3   \n",
       "371525    manuell      102  transporter     150000                    3   \n",
       "371526    manuell      100         golf     150000                    6   \n",
       "371527    manuell      320      m_reihe      50000                    8   \n",
       "\n",
       "       fuelType           brand notRepairedDamage          dateCreated  \\\n",
       "0        benzin      volkswagen               NaN  2016-03-24 00:00:00   \n",
       "1        diesel            audi                ja  2016-03-24 00:00:00   \n",
       "2        diesel            jeep               NaN  2016-03-14 00:00:00   \n",
       "3        benzin      volkswagen              nein  2016-03-17 00:00:00   \n",
       "4        diesel           skoda              nein  2016-03-31 00:00:00   \n",
       "371523      NaN  sonstige_autos               NaN  2016-03-14 00:00:00   \n",
       "371524   benzin           smart              nein  2016-03-05 00:00:00   \n",
       "371525   diesel      volkswagen              nein  2016-03-19 00:00:00   \n",
       "371526   diesel      volkswagen               NaN  2016-03-20 00:00:00   \n",
       "371527   benzin             bmw              nein  2016-03-07 00:00:00   \n",
       "\n",
       "        nrOfPictures  postalCode             lastSeen  \n",
       "0                  0       70435  2016-04-07 03:16:57  \n",
       "1                  0       66954  2016-04-07 01:46:50  \n",
       "2                  0       90480  2016-04-05 12:47:46  \n",
       "3                  0       91074  2016-03-17 17:40:17  \n",
       "4                  0       60437  2016-04-06 10:17:21  \n",
       "371523             0       39576  2016-04-06 00:46:52  \n",
       "371524             0       26135  2016-03-11 18:17:12  \n",
       "371525             0       87439  2016-04-07 07:15:26  \n",
       "371526             0       40764  2016-03-24 12:45:21  \n",
       "371527             0       73326  2016-03-22 03:17:10  "
      ]
     },
     "execution_count": 4,
     "metadata": {},
     "output_type": "execute_result"
    }
   ],
   "source": [
    "df.head().append(df.tail())"
   ]
  },
  {
   "cell_type": "code",
   "execution_count": 5,
   "id": "52e6faf3",
   "metadata": {},
   "outputs": [
    {
     "data": {
      "text/html": [
       "<div>\n",
       "<style scoped>\n",
       "    .dataframe tbody tr th:only-of-type {\n",
       "        vertical-align: middle;\n",
       "    }\n",
       "\n",
       "    .dataframe tbody tr th {\n",
       "        vertical-align: top;\n",
       "    }\n",
       "\n",
       "    .dataframe thead th {\n",
       "        text-align: right;\n",
       "    }\n",
       "</style>\n",
       "<table border=\"1\" class=\"dataframe\">\n",
       "  <thead>\n",
       "    <tr style=\"text-align: right;\">\n",
       "      <th></th>\n",
       "      <th>price</th>\n",
       "      <th>yearOfRegistration</th>\n",
       "      <th>powerPS</th>\n",
       "      <th>kilometer</th>\n",
       "      <th>monthOfRegistration</th>\n",
       "      <th>nrOfPictures</th>\n",
       "      <th>postalCode</th>\n",
       "    </tr>\n",
       "  </thead>\n",
       "  <tbody>\n",
       "    <tr>\n",
       "      <th>count</th>\n",
       "      <td>3.715280e+05</td>\n",
       "      <td>371528.000000</td>\n",
       "      <td>371528.000000</td>\n",
       "      <td>371528.000000</td>\n",
       "      <td>371528.000000</td>\n",
       "      <td>371528.0</td>\n",
       "      <td>371528.00000</td>\n",
       "    </tr>\n",
       "    <tr>\n",
       "      <th>mean</th>\n",
       "      <td>1.729514e+04</td>\n",
       "      <td>2004.577997</td>\n",
       "      <td>115.549477</td>\n",
       "      <td>125618.688228</td>\n",
       "      <td>5.734445</td>\n",
       "      <td>0.0</td>\n",
       "      <td>50820.66764</td>\n",
       "    </tr>\n",
       "    <tr>\n",
       "      <th>std</th>\n",
       "      <td>3.587954e+06</td>\n",
       "      <td>92.866598</td>\n",
       "      <td>192.139578</td>\n",
       "      <td>40112.337051</td>\n",
       "      <td>3.712412</td>\n",
       "      <td>0.0</td>\n",
       "      <td>25799.08247</td>\n",
       "    </tr>\n",
       "    <tr>\n",
       "      <th>min</th>\n",
       "      <td>0.000000e+00</td>\n",
       "      <td>1000.000000</td>\n",
       "      <td>0.000000</td>\n",
       "      <td>5000.000000</td>\n",
       "      <td>0.000000</td>\n",
       "      <td>0.0</td>\n",
       "      <td>1067.00000</td>\n",
       "    </tr>\n",
       "    <tr>\n",
       "      <th>25%</th>\n",
       "      <td>1.150000e+03</td>\n",
       "      <td>1999.000000</td>\n",
       "      <td>70.000000</td>\n",
       "      <td>125000.000000</td>\n",
       "      <td>3.000000</td>\n",
       "      <td>0.0</td>\n",
       "      <td>30459.00000</td>\n",
       "    </tr>\n",
       "    <tr>\n",
       "      <th>50%</th>\n",
       "      <td>2.950000e+03</td>\n",
       "      <td>2003.000000</td>\n",
       "      <td>105.000000</td>\n",
       "      <td>150000.000000</td>\n",
       "      <td>6.000000</td>\n",
       "      <td>0.0</td>\n",
       "      <td>49610.00000</td>\n",
       "    </tr>\n",
       "    <tr>\n",
       "      <th>75%</th>\n",
       "      <td>7.200000e+03</td>\n",
       "      <td>2008.000000</td>\n",
       "      <td>150.000000</td>\n",
       "      <td>150000.000000</td>\n",
       "      <td>9.000000</td>\n",
       "      <td>0.0</td>\n",
       "      <td>71546.00000</td>\n",
       "    </tr>\n",
       "    <tr>\n",
       "      <th>max</th>\n",
       "      <td>2.147484e+09</td>\n",
       "      <td>9999.000000</td>\n",
       "      <td>20000.000000</td>\n",
       "      <td>150000.000000</td>\n",
       "      <td>12.000000</td>\n",
       "      <td>0.0</td>\n",
       "      <td>99998.00000</td>\n",
       "    </tr>\n",
       "  </tbody>\n",
       "</table>\n",
       "</div>"
      ],
      "text/plain": [
       "              price  yearOfRegistration        powerPS      kilometer  \\\n",
       "count  3.715280e+05       371528.000000  371528.000000  371528.000000   \n",
       "mean   1.729514e+04         2004.577997     115.549477  125618.688228   \n",
       "std    3.587954e+06           92.866598     192.139578   40112.337051   \n",
       "min    0.000000e+00         1000.000000       0.000000    5000.000000   \n",
       "25%    1.150000e+03         1999.000000      70.000000  125000.000000   \n",
       "50%    2.950000e+03         2003.000000     105.000000  150000.000000   \n",
       "75%    7.200000e+03         2008.000000     150.000000  150000.000000   \n",
       "max    2.147484e+09         9999.000000   20000.000000  150000.000000   \n",
       "\n",
       "       monthOfRegistration  nrOfPictures    postalCode  \n",
       "count        371528.000000      371528.0  371528.00000  \n",
       "mean              5.734445           0.0   50820.66764  \n",
       "std               3.712412           0.0   25799.08247  \n",
       "min               0.000000           0.0    1067.00000  \n",
       "25%               3.000000           0.0   30459.00000  \n",
       "50%               6.000000           0.0   49610.00000  \n",
       "75%               9.000000           0.0   71546.00000  \n",
       "max              12.000000           0.0   99998.00000  "
      ]
     },
     "execution_count": 5,
     "metadata": {},
     "output_type": "execute_result"
    }
   ],
   "source": [
    "df.describe()"
   ]
  },
  {
   "cell_type": "markdown",
   "id": "53d25b0c",
   "metadata": {},
   "source": [
    "price、year、powerPS最值明显异常"
   ]
  },
  {
   "cell_type": "markdown",
   "id": "034bb83f",
   "metadata": {},
   "source": [
    "## 2.缺失情况"
   ]
  },
  {
   "cell_type": "code",
   "execution_count": 6,
   "id": "749afd52",
   "metadata": {},
   "outputs": [
    {
     "data": {
      "text/plain": [
       "dateCrawled                0\n",
       "name                       0\n",
       "seller                     0\n",
       "offerType                  0\n",
       "price                      0\n",
       "abtest                     0\n",
       "vehicleType            37869\n",
       "yearOfRegistration         0\n",
       "gearbox                20209\n",
       "powerPS                    0\n",
       "model                  20484\n",
       "kilometer                  0\n",
       "monthOfRegistration        0\n",
       "fuelType               33386\n",
       "brand                      0\n",
       "notRepairedDamage      72060\n",
       "dateCreated                0\n",
       "nrOfPictures               0\n",
       "postalCode                 0\n",
       "lastSeen                   0\n",
       "dtype: int64"
      ]
     },
     "execution_count": 6,
     "metadata": {},
     "output_type": "execute_result"
    }
   ],
   "source": [
    "df.isnull().sum()"
   ]
  },
  {
   "cell_type": "code",
   "execution_count": 7,
   "id": "c6519da4",
   "metadata": {},
   "outputs": [
    {
     "data": {
      "text/plain": [
       "dateCrawled            0.000000\n",
       "name                   0.000000\n",
       "seller                 0.000000\n",
       "offerType              0.000000\n",
       "price                  0.000000\n",
       "abtest                 0.000000\n",
       "vehicleType            0.101928\n",
       "yearOfRegistration     0.000000\n",
       "gearbox                0.054394\n",
       "powerPS                0.000000\n",
       "model                  0.055134\n",
       "kilometer              0.000000\n",
       "monthOfRegistration    0.000000\n",
       "fuelType               0.089861\n",
       "brand                  0.000000\n",
       "notRepairedDamage      0.193956\n",
       "dateCreated            0.000000\n",
       "nrOfPictures           0.000000\n",
       "postalCode             0.000000\n",
       "lastSeen               0.000000\n",
       "dtype: float64"
      ]
     },
     "execution_count": 7,
     "metadata": {},
     "output_type": "execute_result"
    }
   ],
   "source": [
    "df.isnull().sum() / df.isnull().count() #这里缺失挺大"
   ]
  },
  {
   "cell_type": "code",
   "execution_count": 8,
   "id": "565eb804",
   "metadata": {},
   "outputs": [
    {
     "data": {
      "text/plain": [
       "<AxesSubplot:>"
      ]
     },
     "execution_count": 8,
     "metadata": {},
     "output_type": "execute_result"
    },
    {
     "data": {
      "image/png": "[encoded data removed]",
      "text/plain": [
       "<Figure size 1800x720 with 2 Axes>"
      ]
     },
     "metadata": {
      "needs_background": "light"
     },
     "output_type": "display_data"
    }
   ],
   "source": [
    "#缺失值分布情况\n",
    "msno.matrix(df)"
   ]
  },
  {
   "cell_type": "markdown",
   "id": "aaec8f09",
   "metadata": {},
   "source": [
    "## 3.标签分布情况"
   ]
  },
  {
   "cell_type": "code",
   "execution_count": 9,
   "id": "1083d9d8",
   "metadata": {
    "scrolled": true
   },
   "outputs": [
    {
     "data": {
      "image/png": "[encoded data removed]",
      "text/plain": [
       "<Figure size 576x576 with 1 Axes>"
      ]
     },
     "metadata": {
      "needs_background": "light"
     },
     "output_type": "display_data"
    }
   ],
   "source": [
    "df.hist(column=\"price\",        \n",
    "              figsize=(8,8),         \n",
    "              color=\"blue\",          \n",
    "              bins=50,               \n",
    "              range= (0,200000));"
   ]
  },
  {
   "cell_type": "code",
   "execution_count": 10,
   "id": "2ed3f31a",
   "metadata": {
    "scrolled": true
   },
   "outputs": [
    {
     "data": {
      "image/png": "[encoded data removed]",
      "text/plain": [
       "<Figure size 432x288 with 1 Axes>"
      ]
     },
     "metadata": {
      "needs_background": "light"
     },
     "output_type": "display_data"
    }
   ],
   "source": [
    "#标签的log变换\n",
    "plt.hist(np.log(df['price'] + 1), orientation = 'vertical',histtype = 'bar',bins = 50) \n",
    "plt.show()"
   ]
  },
  {
   "cell_type": "code",
   "execution_count": 11,
   "id": "7ee9070e",
   "metadata": {
    "scrolled": true
   },
   "outputs": [
    {
     "data": {
      "text/plain": [
       "<AxesSubplot:>"
      ]
     },
     "execution_count": 11,
     "metadata": {},
     "output_type": "execute_result"
    },
    {
     "data": {
      "image/png": "[encoded data removed]",
      "text/plain": [
       "<Figure size 432x288 with 1 Axes>"
      ]
     },
     "metadata": {
      "needs_background": "light"
     },
     "output_type": "display_data"
    }
   ],
   "source": [
    "#标签的箱线图\n",
    "df.boxplot(column=\"price\")"
   ]
  },
  {
   "cell_type": "markdown",
   "id": "0dd86dff",
   "metadata": {},
   "source": [
    "## 4.特征初步分析"
   ]
  },
  {
   "cell_type": "markdown",
   "id": "962d035d",
   "metadata": {},
   "source": [
    "### 1）数字特征"
   ]
  },
  {
   "cell_type": "markdown",
   "id": "f184d839",
   "metadata": {},
   "source": [
    "#### price"
   ]
  },
  {
   "cell_type": "code",
   "execution_count": 12,
   "id": "b917c201",
   "metadata": {},
   "outputs": [
    {
     "data": {
      "text/plain": [
       "0     10778\n",
       "1      1189\n",
       "2        12\n",
       "3         8\n",
       "4         1\n",
       "5        26\n",
       "7         3\n",
       "8         9\n",
       "9         8\n",
       "10       84\n",
       "11        5\n",
       "12        8\n",
       "13        7\n",
       "14        5\n",
       "15       27\n",
       "16        2\n",
       "17        5\n",
       "18        3\n",
       "19        3\n",
       "20       51\n",
       "Name: price, dtype: int64"
      ]
     },
     "execution_count": 12,
     "metadata": {},
     "output_type": "execute_result"
    }
   ],
   "source": [
    "df['price'].value_counts().sort_index(ascending = True).head(20)"
   ]
  },
  {
   "cell_type": "code",
   "execution_count": 13,
   "id": "5dc03641",
   "metadata": {},
   "outputs": [
    {
     "data": {
      "text/plain": [
       "2147483647     1\n",
       "99999999      15\n",
       "99000000       1\n",
       "74185296       1\n",
       "32545461       1\n",
       "27322222       1\n",
       "14000500       1\n",
       "12345678       9\n",
       "11111111      10\n",
       "10010011       1\n",
       "10000000       8\n",
       "9999999        3\n",
       "3895000        1\n",
       "3890000        1\n",
       "2995000        1\n",
       "2795000        1\n",
       "1600000        2\n",
       "1300000        1\n",
       "1250000        2\n",
       "1234566        1\n",
       "Name: price, dtype: int64"
      ]
     },
     "execution_count": 13,
     "metadata": {},
     "output_type": "execute_result"
    }
   ],
   "source": [
    "df['price'].value_counts().sort_index(ascending = False).head(20)"
   ]
  },
  {
   "cell_type": "code",
   "execution_count": 14,
   "id": "02ff1c6f",
   "metadata": {},
   "outputs": [],
   "source": [
    "df = df[df['price'].between(100,100000)]\n",
    "#这里直接删除过小和过大值"
   ]
  },
  {
   "cell_type": "code",
   "execution_count": 15,
   "id": "07e68df3",
   "metadata": {},
   "outputs": [
    {
     "data": {
      "image/png": "[encoded data removed]",
      "text/plain": [
       "<Figure size 576x576 with 1 Axes>"
      ]
     },
     "metadata": {
      "needs_background": "light"
     },
     "output_type": "display_data"
    }
   ],
   "source": [
    "df.hist(column=\"price\",        \n",
    "              figsize=(8,8),         \n",
    "              color=\"blue\",          \n",
    "              bins=50            \n",
    "              );"
   ]
  },
  {
   "cell_type": "code",
   "execution_count": 16,
   "id": "f4ef22b0",
   "metadata": {},
   "outputs": [
    {
     "name": "stderr",
     "output_type": "stream",
     "text": [
      "C:\\Users\\26242\\anaconda3\\lib\\site-packages\\seaborn\\distributions.py:2619: FutureWarning: `distplot` is a deprecated function and will be removed in a future version. Please adapt your code to use either `displot` (a figure-level function with similar flexibility) or `histplot` (an axes-level function for histograms).\n",
      "  warnings.warn(msg, FutureWarning)\n"
     ]
    },
    {
     "data": {
      "text/plain": [
       "<AxesSubplot:xlabel='price', ylabel='Density'>"
      ]
     },
     "execution_count": 16,
     "metadata": {},
     "output_type": "execute_result"
    },
    {
     "data": {
      "image/png": "[encoded data removed]",
      "text/plain": [
       "<Figure size 432x288 with 1 Axes>"
      ]
     },
     "metadata": {
      "needs_background": "light"
     },
     "output_type": "display_data"
    }
   ],
   "source": [
    "sns.distplot(df['price'])"
   ]
  },
  {
   "cell_type": "code",
   "execution_count": 17,
   "id": "1dc7dbca",
   "metadata": {},
   "outputs": [
    {
     "data": {
      "image/png": "[encoded data removed]",
      "text/plain": [
       "<Figure size 432x288 with 1 Axes>"
      ]
     },
     "metadata": {
      "needs_background": "light"
     },
     "output_type": "display_data"
    }
   ],
   "source": [
    "#log变换\n",
    "plt.hist(np.log(df['price'] + 1), orientation = 'vertical',histtype = 'bar',bins = 50) \n",
    "plt.show()"
   ]
  },
  {
   "cell_type": "markdown",
   "id": "4f28881e",
   "metadata": {},
   "source": [
    "#### powerPS"
   ]
  },
  {
   "cell_type": "code",
   "execution_count": 18,
   "id": "b510ee4f",
   "metadata": {},
   "outputs": [
    {
     "data": {
      "text/plain": [
       "0     35594\n",
       "1        24\n",
       "2         9\n",
       "3         9\n",
       "4        30\n",
       "5        99\n",
       "6        11\n",
       "7        10\n",
       "8         7\n",
       "9         5\n",
       "10       13\n",
       "11       28\n",
       "12       20\n",
       "13        8\n",
       "14       21\n",
       "15       19\n",
       "16       11\n",
       "17        8\n",
       "18       53\n",
       "19       15\n",
       "Name: powerPS, dtype: int64"
      ]
     },
     "execution_count": 18,
     "metadata": {},
     "output_type": "execute_result"
    }
   ],
   "source": [
    "df['powerPS'].value_counts().sort_index(ascending = True).head(20)"
   ]
  },
  {
   "cell_type": "code",
   "execution_count": 19,
   "id": "3a3bb20a",
   "metadata": {},
   "outputs": [
    {
     "data": {
      "text/plain": [
       "20000    1\n",
       "19312    1\n",
       "19211    1\n",
       "19208    1\n",
       "17932    1\n",
       "17700    1\n",
       "17410    1\n",
       "17322    1\n",
       "17019    1\n",
       "17011    1\n",
       "16312    1\n",
       "16311    1\n",
       "16051    1\n",
       "16011    1\n",
       "15033    1\n",
       "15020    1\n",
       "15017    1\n",
       "15001    1\n",
       "14009    1\n",
       "13636    1\n",
       "Name: powerPS, dtype: int64"
      ]
     },
     "execution_count": 19,
     "metadata": {},
     "output_type": "execute_result"
    }
   ],
   "source": [
    "df['powerPS'].value_counts().sort_index(ascending = False).head(20)"
   ]
  },
  {
   "cell_type": "code",
   "execution_count": 20,
   "id": "f9eb78b3",
   "metadata": {},
   "outputs": [],
   "source": [
    "#这里用中位数填充0值\n",
    "#这是因为 我认为0值或许是网站的默认值,即客户没有填写,当空值处理,但是由于异常值偏离大,所以用中位数填充\n",
    "df.replace(to_replace = {'powerPS':0}, value = {'powerPS':df['powerPS'].median()}, inplace = True)"
   ]
  },
  {
   "cell_type": "markdown",
   "id": "8dd8b1cb",
   "metadata": {},
   "source": [
    "#### kilometer"
   ]
  },
  {
   "cell_type": "code",
   "execution_count": 21,
   "id": "49634072",
   "metadata": {},
   "outputs": [
    {
     "data": {
      "text/plain": [
       "<AxesSubplot:ylabel='Density'>"
      ]
     },
     "execution_count": 21,
     "metadata": {},
     "output_type": "execute_result"
    },
    {
     "data": {
      "image/png": "[encoded data removed]",
      "text/plain": [
       "<Figure size 432x288 with 1 Axes>"
      ]
     },
     "metadata": {
      "needs_background": "light"
     },
     "output_type": "display_data"
    }
   ],
   "source": [
    "df['kilometer'].plot(kind = 'density')"
   ]
  },
  {
   "cell_type": "code",
   "execution_count": 22,
   "id": "6b6278c4",
   "metadata": {},
   "outputs": [
    {
     "data": {
      "text/plain": [
       "150000    231509\n",
       "125000     37222\n",
       "100000     15349\n",
       "90000      12319\n",
       "80000      10859\n",
       "70000       9635\n",
       "60000       8563\n",
       "50000       7505\n",
       "40000       6295\n",
       "30000       5890\n",
       "20000       5452\n",
       "5000        5406\n",
       "10000       1801\n",
       "Name: kilometer, dtype: int64"
      ]
     },
     "execution_count": 22,
     "metadata": {},
     "output_type": "execute_result"
    }
   ],
   "source": [
    "df['kilometer'].value_counts()"
   ]
  },
  {
   "cell_type": "markdown",
   "id": "462566fc",
   "metadata": {},
   "source": [
    "#### postalCode"
   ]
  },
  {
   "cell_type": "code",
   "execution_count": 23,
   "id": "3934f184",
   "metadata": {},
   "outputs": [
    {
     "data": {
      "text/plain": [
       "10115    821\n",
       "65428    626\n",
       "66333    328\n",
       "38518    308\n",
       "44145    307\n",
       "        ... \n",
       "29587      1\n",
       "89368      1\n",
       "95356      1\n",
       "91471      1\n",
       "31096      1\n",
       "Name: postalCode, Length: 8146, dtype: int64"
      ]
     },
     "execution_count": 23,
     "metadata": {},
     "output_type": "execute_result"
    }
   ],
   "source": [
    "df['postalCode'].value_counts()"
   ]
  },
  {
   "cell_type": "markdown",
   "id": "6a3477ae",
   "metadata": {},
   "source": [
    "#### yearOfRegistration"
   ]
  },
  {
   "cell_type": "code",
   "execution_count": 24,
   "id": "e9cb6620",
   "metadata": {},
   "outputs": [
    {
     "data": {
      "text/plain": [
       "1000    22\n",
       "1001     1\n",
       "1039     1\n",
       "1111     1\n",
       "1234     4\n",
       "1255     1\n",
       "1300     2\n",
       "1400     1\n",
       "1500     3\n",
       "1600     2\n",
       "1602     1\n",
       "1800     4\n",
       "1910    36\n",
       "1911     1\n",
       "1923     3\n",
       "1925     1\n",
       "1927     2\n",
       "1928     2\n",
       "1929     7\n",
       "1930     4\n",
       "Name: yearOfRegistration, dtype: int64"
      ]
     },
     "execution_count": 24,
     "metadata": {},
     "output_type": "execute_result"
    }
   ],
   "source": [
    "df['yearOfRegistration'].value_counts().sort_index(ascending = True).head(20)"
   ]
  },
  {
   "cell_type": "code",
   "execution_count": 25,
   "id": "54452029",
   "metadata": {},
   "outputs": [],
   "source": [
    "df = df[df['yearOfRegistration'].between(1900,2016)]\n",
    "#这里直接删除过小和过大值\n",
    "df.reset_index(drop = True, inplace = True)"
   ]
  },
  {
   "cell_type": "markdown",
   "id": "fbeeb9ce",
   "metadata": {},
   "source": [
    "#### monthOfRegistration"
   ]
  },
  {
   "cell_type": "code",
   "execution_count": 26,
   "id": "1f391c4b",
   "metadata": {},
   "outputs": [
    {
     "data": {
      "text/plain": [
       "dateCrawled            28497\n",
       "name                   28497\n",
       "seller                 28497\n",
       "offerType              28497\n",
       "price                  28497\n",
       "abtest                 28497\n",
       "vehicleType            20119\n",
       "yearOfRegistration     28497\n",
       "gearbox                22284\n",
       "powerPS                28497\n",
       "model                  24129\n",
       "kilometer              28497\n",
       "monthOfRegistration    28497\n",
       "fuelType               19173\n",
       "brand                  28497\n",
       "notRepairedDamage      12211\n",
       "dateCreated            28497\n",
       "nrOfPictures           28497\n",
       "postalCode             28497\n",
       "lastSeen               28497\n",
       "dtype: int64"
      ]
     },
     "execution_count": 26,
     "metadata": {},
     "output_type": "execute_result"
    }
   ],
   "source": [
    "df[df['monthOfRegistration'] == 0].count()"
   ]
  },
  {
   "cell_type": "code",
   "execution_count": 27,
   "id": "e86201ee",
   "metadata": {},
   "outputs": [
    {
     "data": {
      "text/plain": [
       "<AxesSubplot:>"
      ]
     },
     "execution_count": 27,
     "metadata": {},
     "output_type": "execute_result"
    },
    {
     "data": {
      "image/png": "[encoded data removed]",
      "text/plain": [
       "<Figure size 1800x504 with 1 Axes>"
      ]
     },
     "metadata": {
      "needs_background": "light"
     },
     "output_type": "display_data"
    }
   ],
   "source": [
    "plt.figure(figsize=(25,7))\n",
    "df['monthOfRegistration'].value_counts(dropna = False).plot(kind = 'bar')"
   ]
  },
  {
   "cell_type": "markdown",
   "id": "872c764f",
   "metadata": {},
   "source": [
    "### 2)类别特征"
   ]
  },
  {
   "cell_type": "code",
   "execution_count": 28,
   "id": "671d49b2",
   "metadata": {},
   "outputs": [],
   "source": [
    "categorical_features = ['name','seller','offerType','fuelType','brand','notRepairedDamage','abtest','vehicleType','gearbox','model']"
   ]
  },
  {
   "cell_type": "code",
   "execution_count": 29,
   "id": "43407247",
   "metadata": {},
   "outputs": [
    {
     "name": "stdout",
     "output_type": "stream",
     "text": [
      "name : 211714\n",
      "seller : 2\n",
      "offerType : 2\n",
      "fuelType : 7\n",
      "brand : 40\n",
      "notRepairedDamage : 2\n",
      "abtest : 2\n",
      "vehicleType : 8\n",
      "gearbox : 2\n",
      "model : 251\n"
     ]
    }
   ],
   "source": [
    "#每个特征有多少种类别\n",
    "for f in categorical_features:\n",
    "    print(f,\":\",df[f].nunique())"
   ]
  },
  {
   "cell_type": "code",
   "execution_count": 30,
   "id": "9d094126",
   "metadata": {
    "scrolled": true
   },
   "outputs": [
    {
     "name": "stdout",
     "output_type": "stream",
     "text": [
      "name 的分布情况：\n",
      "BMW_318i                                                 627\n",
      "Ford_Fiesta                                              609\n",
      "Volkswagen_Golf_1.4                                      603\n",
      "Opel_Corsa                                               594\n",
      "BMW_316i                                                 523\n",
      "                                                        ... \n",
      "Opel_Meriva_1.6_//_Orig.52_tKM_/_1.Hand_Rentnerfahrzg      1\n",
      "Bmw_318_ci._Cabrio                                         1\n",
      "Seat_Leon_2.0_T_FSI_Cupra_R_Xenon_Navi_Garagenfahrzeu      1\n",
      "Fiat_Punto_SX_mit_LPG_Gasanlage                            1\n",
      "BMW_M135i_vollausgestattet_NP_52.720____Euro               1\n",
      "Name: name, Length: 211714, dtype: int64\n",
      "------------------------------------------------------------\n",
      "seller 的分布情况：\n",
      "privat        343931\n",
      "gewerblich         3\n",
      "Name: seller, dtype: int64\n",
      "------------------------------------------------------------\n",
      "offerType 的分布情况：\n",
      "Angebot    343928\n",
      "Gesuch          6\n",
      "Name: offerType, dtype: int64\n",
      "------------------------------------------------------------\n",
      "fuelType 的分布情况：\n",
      "benzin     210756\n",
      "diesel     103588\n",
      "lpg          5079\n",
      "cng           535\n",
      "hybrid        261\n",
      "andere        151\n",
      "elektro        95\n",
      "Name: fuelType, dtype: int64\n",
      "------------------------------------------------------------\n",
      "brand 的分布情况：\n",
      "volkswagen        72921\n",
      "bmw               37830\n",
      "opel              36550\n",
      "mercedes_benz     33379\n",
      "audi              30884\n",
      "ford              23645\n",
      "renault           16326\n",
      "peugeot           10381\n",
      "fiat               8837\n",
      "seat               6432\n",
      "skoda              5424\n",
      "mazda              5307\n",
      "smart              4947\n",
      "citroen            4799\n",
      "nissan             4683\n",
      "toyota             4471\n",
      "hyundai            3443\n",
      "mini               3247\n",
      "volvo              3155\n",
      "sonstige_autos     3088\n",
      "mitsubishi         2835\n",
      "honda              2599\n",
      "kia                2387\n",
      "suzuki             2189\n",
      "alfa_romeo         2165\n",
      "porsche            1986\n",
      "chevrolet          1735\n",
      "chrysler           1325\n",
      "dacia               863\n",
      "jeep                755\n",
      "land_rover          748\n",
      "daihatsu            735\n",
      "subaru              722\n",
      "jaguar              587\n",
      "saab                505\n",
      "daewoo              500\n",
      "trabant             465\n",
      "lancia              443\n",
      "rover               435\n",
      "lada                206\n",
      "Name: brand, dtype: int64\n",
      "------------------------------------------------------------\n",
      "notRepairedDamage 的分布情况：\n",
      "nein    252057\n",
      "ja       32642\n",
      "Name: notRepairedDamage, dtype: int64\n",
      "------------------------------------------------------------\n",
      "abtest 的分布情况：\n",
      "test       178245\n",
      "control    165689\n",
      "Name: abtest, dtype: int64\n",
      "------------------------------------------------------------\n",
      "vehicleType 的分布情况：\n",
      "limousine     93489\n",
      "kleinwagen    77625\n",
      "kombi         65845\n",
      "bus           29681\n",
      "cabrio        22412\n",
      "coupe         18219\n",
      "suv           14458\n",
      "andere         3110\n",
      "Name: vehicleType, dtype: int64\n",
      "------------------------------------------------------------\n",
      "gearbox 的分布情况：\n",
      "manuell      255630\n",
      "automatik     73410\n",
      "Name: gearbox, dtype: int64\n",
      "------------------------------------------------------------\n",
      "model 的分布情况：\n",
      "golf               27391\n",
      "andere             24884\n",
      "3er                19367\n",
      "polo               11939\n",
      "corsa              11446\n",
      "                   ...  \n",
      "kalina                 6\n",
      "rangerover             5\n",
      "serie_3                3\n",
      "serie_1                1\n",
      "discovery_sport        1\n",
      "Name: model, Length: 251, dtype: int64\n",
      "------------------------------------------------------------\n"
     ]
    }
   ],
   "source": [
    "#每个特征的每个类别有多少个\n",
    "for c in categorical_features:\n",
    "    print(c,\"的分布情况：\")\n",
    "    print(df[c].value_counts())\n",
    "    print('--' * 30)"
   ]
  },
  {
   "cell_type": "markdown",
   "id": "c39e3b35",
   "metadata": {},
   "source": [
    "## 预处理的结论：\n",
    "    1.price,yearOfRegistration偏离较大,删除了两端值\n",
    "    2.price与数字变量相关性不太高\n",
    "    3.powerPS异常值偏离大\n",
    "    4.seller特征与offferType特征内部数据差值很大，没有意义\n",
    "    5.汽车的注册日期与上线日期可以估计出车龄\n",
    "    6.postalCode,name类别过多，删除"
   ]
  },
  {
   "cell_type": "markdown",
   "id": "784be293",
   "metadata": {},
   "source": [
    "# 二、数据清洗"
   ]
  },
  {
   "cell_type": "markdown",
   "id": "7a26ae2c",
   "metadata": {},
   "source": [
    "## 1.异常值处理-----用箱线图去除异常值"
   ]
  },
  {
   "cell_type": "code",
   "execution_count": 31,
   "id": "0f6b257b",
   "metadata": {},
   "outputs": [],
   "source": [
    "def outliers_proc(data, col_name, scale=3):\n",
    "    \"\"\"\n",
    "    用于清洗异常值，默认用 box_plot（scale=3）进行清洗\n",
    "    :param data: 接收 pandas 数据格式\n",
    "    :param col_name: pandas 列名\n",
    "    :param scale: 尺度\n",
    "    :return:\n",
    "    \"\"\"\n",
    "\n",
    "    def box_plot_outliers(data_ser, box_scale):\n",
    "        \"\"\"\n",
    "        利用箱线图去除异常值\n",
    "        :param data_ser: 接收 pandas.Series 数据格式\n",
    "        :param box_scale: 箱线图尺度，\n",
    "        :return:\n",
    "        \"\"\"\n",
    "        iqr = box_scale * (data_ser.quantile(0.75) - data_ser.quantile(0.25))\n",
    "        val_low = data_ser.quantile(0.25) - iqr   #下边缘\n",
    "        val_up = data_ser.quantile(0.75) + iqr     #上边缘\n",
    "        rule_low = (data_ser < val_low)\n",
    "        rule_up = (data_ser > val_up)\n",
    "        return (rule_low, rule_up), (val_low, val_up)\n",
    "\n",
    "    data_n = data.copy()\n",
    "    data_series = data_n[col_name] #复制数据\n",
    "    \n",
    "    rule, value = box_plot_outliers(data_series, box_scale=scale)#得到上下边缘及判定条件\n",
    "    \n",
    "    index = np.arange(data_series.shape[0])[rule[0] | rule[1]]\n",
    "    print(\"Delete number is: {}\".format(len(index)))\n",
    "    data_n = data_n.drop(index)\n",
    "    data_n.reset_index(drop=True, inplace=True)\n",
    "    print(\"Now column number is: {}\".format(data_n.shape[0]))\n",
    "    index_low = np.arange(data_series.shape[0])[rule[0]]\n",
    "    outliers = data_series.iloc[index_low]\n",
    "    print(\"Description of data less than the lower bound is:\")\n",
    "    print(pd.Series(outliers).describe())\n",
    "    index_up = np.arange(data_series.shape[0])[rule[1]]\n",
    "    outliers = data_series.iloc[index_up]\n",
    "    print(\"Description of data larger than the upper bound is:\")\n",
    "    print(pd.Series(outliers).describe())\n",
    "    \n",
    "    fig, ax = plt.subplots(1, 2, figsize=(10, 7))\n",
    "    sns.boxplot(y=data[col_name], data=data, palette=\"Set1\", ax=ax[0])\n",
    "    sns.boxplot(y=data_n[col_name], data=data_n, palette=\"Set1\", ax=ax[1])\n",
    "    return data_n"
   ]
  },
  {
   "cell_type": "code",
   "execution_count": 32,
   "id": "035fe94b",
   "metadata": {},
   "outputs": [
    {
     "name": "stdout",
     "output_type": "stream",
     "text": [
      "Delete number is: 3214\n",
      "Now column number is: 340720\n",
      "Description of data less than the lower bound is:\n",
      "count    0.0\n",
      "mean     NaN\n",
      "std      NaN\n",
      "min      NaN\n",
      "25%      NaN\n",
      "50%      NaN\n",
      "75%      NaN\n",
      "max      NaN\n",
      "Name: powerPS, dtype: float64\n",
      "Description of data larger than the upper bound is:\n",
      "count     3214.000000\n",
      "mean       731.413503\n",
      "std       1702.276795\n",
      "min        343.000000\n",
      "25%        360.000000\n",
      "50%        404.000000\n",
      "75%        480.750000\n",
      "max      20000.000000\n",
      "Name: powerPS, dtype: float64\n"
     ]
    },
    {
     "data": {
      "image/png": "[encoded data removed]",
      "text/plain": [
       "<Figure size 720x504 with 2 Axes>"
      ]
     },
     "metadata": {
      "needs_background": "light"
     },
     "output_type": "display_data"
    }
   ],
   "source": [
    "df.reset_index(drop = True, inplace = True)\n",
    "df = outliers_proc(df, 'powerPS')"
   ]
  },
  {
   "cell_type": "markdown",
   "id": "9379088b",
   "metadata": {},
   "source": [
    "## 2.缺失值处理"
   ]
  },
  {
   "cell_type": "code",
   "execution_count": 33,
   "id": "561aa8ad",
   "metadata": {},
   "outputs": [],
   "source": [
    "#暂时上下填充，，，，，，，，缺失值都不是数字特征\n",
    "df.fillna(method = \"ffill\", inplace = True)\n",
    "df.fillna(method = \"bfill\", inplace = True)"
   ]
  },
  {
   "cell_type": "markdown",
   "id": "bef64ccb",
   "metadata": {},
   "source": [
    "## 3.特征处理"
   ]
  },
  {
   "cell_type": "markdown",
   "id": "ebdace22",
   "metadata": {},
   "source": [
    "### age"
   ]
  },
  {
   "cell_type": "code",
   "execution_count": 34,
   "id": "d2842155",
   "metadata": {},
   "outputs": [],
   "source": [
    "#车龄\n",
    "tmp_month = []\n",
    "for i in range(len(df['dateCreated'])):\n",
    "    if df['yearOfRegistration'][i] and df['dateCreated'][i]:\n",
    "        year_re = df['yearOfRegistration'][i]\n",
    "        year_cr = int(df['dateCreated'][i][:4])\n",
    "        mon_re = df['monthOfRegistration'][i]\n",
    "        mon_cr = int(df['dateCreated'][i][5:6])\n",
    "        if year_cr - year_re < 0:\n",
    "            #tmp += [-1]\n",
    "            tmp_month += [0]\n",
    "        \n",
    "        else:\n",
    "            #tmp += [year_cr - year_re]  #这里将所有车龄小于0的车龄全暂时赋0\n",
    "            if year_cr - year_re == 0:\n",
    "                if mon_cr - mon_re < 0:\n",
    "                    tmp_month += [0]\n",
    "                else:\n",
    "                    tmp_month += [(year_cr - year_re) * 12 + mon_cr - mon_re]\n",
    "            else:\n",
    "                tmp_month += [(year_cr - year_re) * 12 + mon_cr - mon_re]\n",
    "df['car_month'] = tmp_month\n",
    "\n",
    "#这里用中位数填充0值\n",
    "df.replace(to_replace = {'car_month':0}, value = {'car_month':df['car_month'].median()}, inplace = True)"
   ]
  },
  {
   "cell_type": "markdown",
   "id": "6c87718d",
   "metadata": {},
   "source": [
    "### online_days"
   ]
  },
  {
   "cell_type": "code",
   "execution_count": 35,
   "id": "87cbf599",
   "metadata": {},
   "outputs": [],
   "source": [
    "#日期转换\n",
    "df['dateCrawled'] = pd.to_datetime(df['dateCrawled'])\n",
    "df['dateCreated'] = pd.to_datetime(df['dateCreated'])\n",
    "df['lastSeen'] = pd.to_datetime(df['lastSeen'])"
   ]
  },
  {
   "cell_type": "code",
   "execution_count": 36,
   "id": "b31673cf",
   "metadata": {},
   "outputs": [],
   "source": [
    "val = list(df['lastSeen'] - df['dateCreated'])\n",
    "tmp = [obj.days for obj in val]\n",
    "for i in range(len(tmp)):\n",
    "  if tmp[i] < 0:\n",
    "    tmp[i] = 0\n",
    "df['online_days'] = tmp\n",
    "\n",
    "#这里用中位数填充0值\n",
    "df.replace(to_replace = {'online_days':0}, value = {'online_days':df['online_days'].median()}, inplace = True)"
   ]
  },
  {
   "cell_type": "markdown",
   "id": "db4900b4",
   "metadata": {},
   "source": [
    "### 删除无用特征"
   ]
  },
  {
   "cell_type": "code",
   "execution_count": 37,
   "id": "e072dead",
   "metadata": {},
   "outputs": [],
   "source": [
    "#去掉无意义的特征\n",
    "df.drop(['dateCrawled'], axis = 1, inplace = True)\n",
    "df.drop(['yearOfRegistration'], axis = 1, inplace = True)\n",
    "df.drop(['monthOfRegistration'], axis = 1, inplace = True)\n",
    "df.drop(['dateCreated'], axis = 1, inplace = True)\n",
    "df.drop(['lastSeen'], axis = 1, inplace = True)\n",
    "\n",
    "df.drop(['nrOfPictures'], axis = 1, inplace = True)\n",
    "df.drop(['name'], axis = 1, inplace = True)\n",
    "df.drop(['seller'], axis = 1, inplace = True)\n",
    "df.drop(['offerType'], axis = 1, inplace = True)\n",
    "df.drop(['postalCode'], axis = 1, inplace = True)\n",
    "\n",
    "\n",
    "df = df[df['car_month'].between(0,720)]\n",
    "df = df[df['online_days'].between(0,400)]\n",
    "df.reset_index(drop = True, inplace = True)"
   ]
  },
  {
   "cell_type": "code",
   "execution_count": 38,
   "id": "41a6460f",
   "metadata": {},
   "outputs": [
    {
     "name": "stdout",
     "output_type": "stream",
     "text": [
      "<class 'pandas.core.frame.DataFrame'>\n",
      "RangeIndex: 340490 entries, 0 to 340489\n",
      "Data columns (total 12 columns):\n",
      " #   Column             Non-Null Count   Dtype \n",
      "---  ------             --------------   ----- \n",
      " 0   price              340490 non-null  int64 \n",
      " 1   abtest             340490 non-null  object\n",
      " 2   vehicleType        340490 non-null  object\n",
      " 3   gearbox            340490 non-null  object\n",
      " 4   powerPS            340490 non-null  int64 \n",
      " 5   model              340490 non-null  object\n",
      " 6   kilometer          340490 non-null  int64 \n",
      " 7   fuelType           340490 non-null  object\n",
      " 8   brand              340490 non-null  object\n",
      " 9   notRepairedDamage  340490 non-null  object\n",
      " 10  car_month          340490 non-null  int64 \n",
      " 11  online_days        340490 non-null  int64 \n",
      "dtypes: int64(5), object(7)\n",
      "memory usage: 31.2+ MB\n"
     ]
    }
   ],
   "source": [
    "df.info()"
   ]
  },
  {
   "cell_type": "code",
   "execution_count": 39,
   "id": "60eec2fd",
   "metadata": {},
   "outputs": [
    {
     "data": {
      "image/png": "[encoded data removed]",
      "text/plain": [
       "<Figure size 576x576 with 1 Axes>"
      ]
     },
     "metadata": {
      "needs_background": "light"
     },
     "output_type": "display_data"
    }
   ],
   "source": [
    "df.hist(column=\"online_days\",        \n",
    "              figsize=(8,8),         \n",
    "              color=\"blue\",          \n",
    "              bins=50);"
   ]
  },
  {
   "cell_type": "code",
   "execution_count": 40,
   "id": "ceaa5779",
   "metadata": {},
   "outputs": [
    {
     "data": {
      "text/plain": [
       "110    1\n",
       "121    1\n",
       "122    1\n",
       "125    1\n",
       "133    1\n",
       "135    1\n",
       "136    1\n",
       "141    1\n",
       "144    1\n",
       "146    1\n",
       "149    1\n",
       "150    1\n",
       "152    1\n",
       "193    2\n",
       "209    1\n",
       "239    1\n",
       "244    1\n",
       "292    1\n",
       "300    1\n",
       "384    1\n",
       "Name: online_days, dtype: int64"
      ]
     },
     "execution_count": 40,
     "metadata": {},
     "output_type": "execute_result"
    }
   ],
   "source": [
    "df['online_days'].value_counts().sort_index().tail(20)"
   ]
  },
  {
   "cell_type": "code",
   "execution_count": 41,
   "id": "52ee9604",
   "metadata": {},
   "outputs": [],
   "source": [
    "df.to_csv('car_data.csv', index = 0)"
   ]
  },
  {
   "cell_type": "code",
   "execution_count": 42,
   "id": "7e499af3",
   "metadata": {},
   "outputs": [
    {
     "data": {
      "text/html": [
       "<div>\n",
       "<style scoped>\n",
       "    .dataframe tbody tr th:only-of-type {\n",
       "        vertical-align: middle;\n",
       "    }\n",
       "\n",
       "    .dataframe tbody tr th {\n",
       "        vertical-align: top;\n",
       "    }\n",
       "\n",
       "    .dataframe thead th {\n",
       "        text-align: right;\n",
       "    }\n",
       "</style>\n",
       "<table border=\"1\" class=\"dataframe\">\n",
       "  <thead>\n",
       "    <tr style=\"text-align: right;\">\n",
       "      <th></th>\n",
       "      <th>price</th>\n",
       "      <th>abtest</th>\n",
       "      <th>vehicleType</th>\n",
       "      <th>gearbox</th>\n",
       "      <th>powerPS</th>\n",
       "      <th>model</th>\n",
       "      <th>kilometer</th>\n",
       "      <th>fuelType</th>\n",
       "      <th>brand</th>\n",
       "      <th>notRepairedDamage</th>\n",
       "      <th>car_month</th>\n",
       "      <th>online_days</th>\n",
       "    </tr>\n",
       "  </thead>\n",
       "  <tbody>\n",
       "    <tr>\n",
       "      <th>0</th>\n",
       "      <td>480</td>\n",
       "      <td>test</td>\n",
       "      <td>coupe</td>\n",
       "      <td>manuell</td>\n",
       "      <td>107</td>\n",
       "      <td>golf</td>\n",
       "      <td>150000</td>\n",
       "      <td>benzin</td>\n",
       "      <td>volkswagen</td>\n",
       "      <td>ja</td>\n",
       "      <td>276</td>\n",
       "      <td>14</td>\n",
       "    </tr>\n",
       "    <tr>\n",
       "      <th>1</th>\n",
       "      <td>18300</td>\n",
       "      <td>test</td>\n",
       "      <td>coupe</td>\n",
       "      <td>manuell</td>\n",
       "      <td>190</td>\n",
       "      <td>golf</td>\n",
       "      <td>125000</td>\n",
       "      <td>diesel</td>\n",
       "      <td>audi</td>\n",
       "      <td>ja</td>\n",
       "      <td>55</td>\n",
       "      <td>14</td>\n",
       "    </tr>\n",
       "    <tr>\n",
       "      <th>2</th>\n",
       "      <td>9800</td>\n",
       "      <td>test</td>\n",
       "      <td>suv</td>\n",
       "      <td>automatik</td>\n",
       "      <td>163</td>\n",
       "      <td>grand</td>\n",
       "      <td>125000</td>\n",
       "      <td>diesel</td>\n",
       "      <td>jeep</td>\n",
       "      <td>ja</td>\n",
       "      <td>136</td>\n",
       "      <td>22</td>\n",
       "    </tr>\n",
       "    <tr>\n",
       "      <th>3</th>\n",
       "      <td>1500</td>\n",
       "      <td>test</td>\n",
       "      <td>kleinwagen</td>\n",
       "      <td>manuell</td>\n",
       "      <td>75</td>\n",
       "      <td>golf</td>\n",
       "      <td>150000</td>\n",
       "      <td>benzin</td>\n",
       "      <td>volkswagen</td>\n",
       "      <td>nein</td>\n",
       "      <td>174</td>\n",
       "      <td>6</td>\n",
       "    </tr>\n",
       "    <tr>\n",
       "      <th>4</th>\n",
       "      <td>3600</td>\n",
       "      <td>test</td>\n",
       "      <td>kleinwagen</td>\n",
       "      <td>manuell</td>\n",
       "      <td>69</td>\n",
       "      <td>fabia</td>\n",
       "      <td>90000</td>\n",
       "      <td>diesel</td>\n",
       "      <td>skoda</td>\n",
       "      <td>nein</td>\n",
       "      <td>89</td>\n",
       "      <td>6</td>\n",
       "    </tr>\n",
       "    <tr>\n",
       "      <th>...</th>\n",
       "      <td>...</td>\n",
       "      <td>...</td>\n",
       "      <td>...</td>\n",
       "      <td>...</td>\n",
       "      <td>...</td>\n",
       "      <td>...</td>\n",
       "      <td>...</td>\n",
       "      <td>...</td>\n",
       "      <td>...</td>\n",
       "      <td>...</td>\n",
       "      <td>...</td>\n",
       "      <td>...</td>\n",
       "    </tr>\n",
       "    <tr>\n",
       "      <th>340485</th>\n",
       "      <td>2200</td>\n",
       "      <td>test</td>\n",
       "      <td>bus</td>\n",
       "      <td>manuell</td>\n",
       "      <td>107</td>\n",
       "      <td>zafira</td>\n",
       "      <td>20000</td>\n",
       "      <td>benzin</td>\n",
       "      <td>sonstige_autos</td>\n",
       "      <td>nein</td>\n",
       "      <td>131</td>\n",
       "      <td>23</td>\n",
       "    </tr>\n",
       "    <tr>\n",
       "      <th>340486</th>\n",
       "      <td>1199</td>\n",
       "      <td>test</td>\n",
       "      <td>cabrio</td>\n",
       "      <td>automatik</td>\n",
       "      <td>101</td>\n",
       "      <td>fortwo</td>\n",
       "      <td>125000</td>\n",
       "      <td>benzin</td>\n",
       "      <td>smart</td>\n",
       "      <td>nein</td>\n",
       "      <td>189</td>\n",
       "      <td>6</td>\n",
       "    </tr>\n",
       "    <tr>\n",
       "      <th>340487</th>\n",
       "      <td>9200</td>\n",
       "      <td>test</td>\n",
       "      <td>bus</td>\n",
       "      <td>manuell</td>\n",
       "      <td>102</td>\n",
       "      <td>transporter</td>\n",
       "      <td>150000</td>\n",
       "      <td>diesel</td>\n",
       "      <td>volkswagen</td>\n",
       "      <td>nein</td>\n",
       "      <td>237</td>\n",
       "      <td>19</td>\n",
       "    </tr>\n",
       "    <tr>\n",
       "      <th>340488</th>\n",
       "      <td>3400</td>\n",
       "      <td>test</td>\n",
       "      <td>kombi</td>\n",
       "      <td>manuell</td>\n",
       "      <td>100</td>\n",
       "      <td>golf</td>\n",
       "      <td>150000</td>\n",
       "      <td>diesel</td>\n",
       "      <td>volkswagen</td>\n",
       "      <td>nein</td>\n",
       "      <td>162</td>\n",
       "      <td>4</td>\n",
       "    </tr>\n",
       "    <tr>\n",
       "      <th>340489</th>\n",
       "      <td>28990</td>\n",
       "      <td>control</td>\n",
       "      <td>limousine</td>\n",
       "      <td>manuell</td>\n",
       "      <td>320</td>\n",
       "      <td>m_reihe</td>\n",
       "      <td>50000</td>\n",
       "      <td>benzin</td>\n",
       "      <td>bmw</td>\n",
       "      <td>nein</td>\n",
       "      <td>28</td>\n",
       "      <td>15</td>\n",
       "    </tr>\n",
       "  </tbody>\n",
       "</table>\n",
       "<p>340490 rows × 12 columns</p>\n",
       "</div>"
      ],
      "text/plain": [
       "        price   abtest vehicleType    gearbox  powerPS        model  \\\n",
       "0         480     test       coupe    manuell      107         golf   \n",
       "1       18300     test       coupe    manuell      190         golf   \n",
       "2        9800     test         suv  automatik      163        grand   \n",
       "3        1500     test  kleinwagen    manuell       75         golf   \n",
       "4        3600     test  kleinwagen    manuell       69        fabia   \n",
       "...       ...      ...         ...        ...      ...          ...   \n",
       "340485   2200     test         bus    manuell      107       zafira   \n",
       "340486   1199     test      cabrio  automatik      101       fortwo   \n",
       "340487   9200     test         bus    manuell      102  transporter   \n",
       "340488   3400     test       kombi    manuell      100         golf   \n",
       "340489  28990  control   limousine    manuell      320      m_reihe   \n",
       "\n",
       "        kilometer fuelType           brand notRepairedDamage  car_month  \\\n",
       "0          150000   benzin      volkswagen                ja        276   \n",
       "1          125000   diesel            audi                ja         55   \n",
       "2          125000   diesel            jeep                ja        136   \n",
       "3          150000   benzin      volkswagen              nein        174   \n",
       "4           90000   diesel           skoda              nein         89   \n",
       "...           ...      ...             ...               ...        ...   \n",
       "340485      20000   benzin  sonstige_autos              nein        131   \n",
       "340486     125000   benzin           smart              nein        189   \n",
       "340487     150000   diesel      volkswagen              nein        237   \n",
       "340488     150000   diesel      volkswagen              nein        162   \n",
       "340489      50000   benzin             bmw              nein         28   \n",
       "\n",
       "        online_days  \n",
       "0                14  \n",
       "1                14  \n",
       "2                22  \n",
       "3                 6  \n",
       "4                 6  \n",
       "...             ...  \n",
       "340485           23  \n",
       "340486            6  \n",
       "340487           19  \n",
       "340488            4  \n",
       "340489           15  \n",
       "\n",
       "[340490 rows x 12 columns]"
      ]
     },
     "execution_count": 42,
     "metadata": {},
     "output_type": "execute_result"
    }
   ],
   "source": [
    "df"
   ]
  },
  {
   "cell_type": "code",
   "execution_count": 43,
   "id": "186d5f76",
   "metadata": {},
   "outputs": [
    {
     "name": "stdout",
     "output_type": "stream",
     "text": [
      "<class 'pandas.core.frame.DataFrame'>\n",
      "RangeIndex: 340490 entries, 0 to 340489\n",
      "Columns: 317 entries, price to brand_volvo\n",
      "dtypes: int64(5), uint8(312)\n",
      "memory usage: 114.3 MB\n"
     ]
    }
   ],
   "source": [
    "#处理分类变量\n",
    "tmp = pd.get_dummies(df, columns = ['gearbox', 'abtest', 'notRepairedDamage', 'fuelType', 'model', 'vehicleType','brand'])\n",
    "tmp.info()"
   ]
  },
  {
   "cell_type": "code",
   "execution_count": 44,
   "id": "d0c20f6f",
   "metadata": {},
   "outputs": [
    {
     "data": {
      "text/html": [
       "<div>\n",
       "<style scoped>\n",
       "    .dataframe tbody tr th:only-of-type {\n",
       "        vertical-align: middle;\n",
       "    }\n",
       "\n",
       "    .dataframe tbody tr th {\n",
       "        vertical-align: top;\n",
       "    }\n",
       "\n",
       "    .dataframe thead th {\n",
       "        text-align: right;\n",
       "    }\n",
       "</style>\n",
       "<table border=\"1\" class=\"dataframe\">\n",
       "  <thead>\n",
       "    <tr style=\"text-align: right;\">\n",
       "      <th></th>\n",
       "      <th>price</th>\n",
       "      <th>powerPS</th>\n",
       "      <th>kilometer</th>\n",
       "      <th>car_month</th>\n",
       "      <th>online_days</th>\n",
       "      <th>gearbox_automatik</th>\n",
       "      <th>gearbox_manuell</th>\n",
       "      <th>abtest_control</th>\n",
       "      <th>abtest_test</th>\n",
       "      <th>notRepairedDamage_ja</th>\n",
       "      <th>...</th>\n",
       "      <th>brand_seat</th>\n",
       "      <th>brand_skoda</th>\n",
       "      <th>brand_smart</th>\n",
       "      <th>brand_sonstige_autos</th>\n",
       "      <th>brand_subaru</th>\n",
       "      <th>brand_suzuki</th>\n",
       "      <th>brand_toyota</th>\n",
       "      <th>brand_trabant</th>\n",
       "      <th>brand_volkswagen</th>\n",
       "      <th>brand_volvo</th>\n",
       "    </tr>\n",
       "  </thead>\n",
       "  <tbody>\n",
       "    <tr>\n",
       "      <th>0</th>\n",
       "      <td>480</td>\n",
       "      <td>107</td>\n",
       "      <td>150000</td>\n",
       "      <td>276</td>\n",
       "      <td>14</td>\n",
       "      <td>0</td>\n",
       "      <td>1</td>\n",
       "      <td>0</td>\n",
       "      <td>1</td>\n",
       "      <td>1</td>\n",
       "      <td>...</td>\n",
       "      <td>0</td>\n",
       "      <td>0</td>\n",
       "      <td>0</td>\n",
       "      <td>0</td>\n",
       "      <td>0</td>\n",
       "      <td>0</td>\n",
       "      <td>0</td>\n",
       "      <td>0</td>\n",
       "      <td>1</td>\n",
       "      <td>0</td>\n",
       "    </tr>\n",
       "    <tr>\n",
       "      <th>1</th>\n",
       "      <td>18300</td>\n",
       "      <td>190</td>\n",
       "      <td>125000</td>\n",
       "      <td>55</td>\n",
       "      <td>14</td>\n",
       "      <td>0</td>\n",
       "      <td>1</td>\n",
       "      <td>0</td>\n",
       "      <td>1</td>\n",
       "      <td>1</td>\n",
       "      <td>...</td>\n",
       "      <td>0</td>\n",
       "      <td>0</td>\n",
       "      <td>0</td>\n",
       "      <td>0</td>\n",
       "      <td>0</td>\n",
       "      <td>0</td>\n",
       "      <td>0</td>\n",
       "      <td>0</td>\n",
       "      <td>0</td>\n",
       "      <td>0</td>\n",
       "    </tr>\n",
       "    <tr>\n",
       "      <th>2</th>\n",
       "      <td>9800</td>\n",
       "      <td>163</td>\n",
       "      <td>125000</td>\n",
       "      <td>136</td>\n",
       "      <td>22</td>\n",
       "      <td>1</td>\n",
       "      <td>0</td>\n",
       "      <td>0</td>\n",
       "      <td>1</td>\n",
       "      <td>1</td>\n",
       "      <td>...</td>\n",
       "      <td>0</td>\n",
       "      <td>0</td>\n",
       "      <td>0</td>\n",
       "      <td>0</td>\n",
       "      <td>0</td>\n",
       "      <td>0</td>\n",
       "      <td>0</td>\n",
       "      <td>0</td>\n",
       "      <td>0</td>\n",
       "      <td>0</td>\n",
       "    </tr>\n",
       "    <tr>\n",
       "      <th>3</th>\n",
       "      <td>1500</td>\n",
       "      <td>75</td>\n",
       "      <td>150000</td>\n",
       "      <td>174</td>\n",
       "      <td>6</td>\n",
       "      <td>0</td>\n",
       "      <td>1</td>\n",
       "      <td>0</td>\n",
       "      <td>1</td>\n",
       "      <td>0</td>\n",
       "      <td>...</td>\n",
       "      <td>0</td>\n",
       "      <td>0</td>\n",
       "      <td>0</td>\n",
       "      <td>0</td>\n",
       "      <td>0</td>\n",
       "      <td>0</td>\n",
       "      <td>0</td>\n",
       "      <td>0</td>\n",
       "      <td>1</td>\n",
       "      <td>0</td>\n",
       "    </tr>\n",
       "    <tr>\n",
       "      <th>4</th>\n",
       "      <td>3600</td>\n",
       "      <td>69</td>\n",
       "      <td>90000</td>\n",
       "      <td>89</td>\n",
       "      <td>6</td>\n",
       "      <td>0</td>\n",
       "      <td>1</td>\n",
       "      <td>0</td>\n",
       "      <td>1</td>\n",
       "      <td>0</td>\n",
       "      <td>...</td>\n",
       "      <td>0</td>\n",
       "      <td>1</td>\n",
       "      <td>0</td>\n",
       "      <td>0</td>\n",
       "      <td>0</td>\n",
       "      <td>0</td>\n",
       "      <td>0</td>\n",
       "      <td>0</td>\n",
       "      <td>0</td>\n",
       "      <td>0</td>\n",
       "    </tr>\n",
       "    <tr>\n",
       "      <th>...</th>\n",
       "      <td>...</td>\n",
       "      <td>...</td>\n",
       "      <td>...</td>\n",
       "      <td>...</td>\n",
       "      <td>...</td>\n",
       "      <td>...</td>\n",
       "      <td>...</td>\n",
       "      <td>...</td>\n",
       "      <td>...</td>\n",
       "      <td>...</td>\n",
       "      <td>...</td>\n",
       "      <td>...</td>\n",
       "      <td>...</td>\n",
       "      <td>...</td>\n",
       "      <td>...</td>\n",
       "      <td>...</td>\n",
       "      <td>...</td>\n",
       "      <td>...</td>\n",
       "      <td>...</td>\n",
       "      <td>...</td>\n",
       "      <td>...</td>\n",
       "    </tr>\n",
       "    <tr>\n",
       "      <th>340485</th>\n",
       "      <td>2200</td>\n",
       "      <td>107</td>\n",
       "      <td>20000</td>\n",
       "      <td>131</td>\n",
       "      <td>23</td>\n",
       "      <td>0</td>\n",
       "      <td>1</td>\n",
       "      <td>0</td>\n",
       "      <td>1</td>\n",
       "      <td>0</td>\n",
       "      <td>...</td>\n",
       "      <td>0</td>\n",
       "      <td>0</td>\n",
       "      <td>0</td>\n",
       "      <td>1</td>\n",
       "      <td>0</td>\n",
       "      <td>0</td>\n",
       "      <td>0</td>\n",
       "      <td>0</td>\n",
       "      <td>0</td>\n",
       "      <td>0</td>\n",
       "    </tr>\n",
       "    <tr>\n",
       "      <th>340486</th>\n",
       "      <td>1199</td>\n",
       "      <td>101</td>\n",
       "      <td>125000</td>\n",
       "      <td>189</td>\n",
       "      <td>6</td>\n",
       "      <td>1</td>\n",
       "      <td>0</td>\n",
       "      <td>0</td>\n",
       "      <td>1</td>\n",
       "      <td>0</td>\n",
       "      <td>...</td>\n",
       "      <td>0</td>\n",
       "      <td>0</td>\n",
       "      <td>1</td>\n",
       "      <td>0</td>\n",
       "      <td>0</td>\n",
       "      <td>0</td>\n",
       "      <td>0</td>\n",
       "      <td>0</td>\n",
       "      <td>0</td>\n",
       "      <td>0</td>\n",
       "    </tr>\n",
       "    <tr>\n",
       "      <th>340487</th>\n",
       "      <td>9200</td>\n",
       "      <td>102</td>\n",
       "      <td>150000</td>\n",
       "      <td>237</td>\n",
       "      <td>19</td>\n",
       "      <td>0</td>\n",
       "      <td>1</td>\n",
       "      <td>0</td>\n",
       "      <td>1</td>\n",
       "      <td>0</td>\n",
       "      <td>...</td>\n",
       "      <td>0</td>\n",
       "      <td>0</td>\n",
       "      <td>0</td>\n",
       "      <td>0</td>\n",
       "      <td>0</td>\n",
       "      <td>0</td>\n",
       "      <td>0</td>\n",
       "      <td>0</td>\n",
       "      <td>1</td>\n",
       "      <td>0</td>\n",
       "    </tr>\n",
       "    <tr>\n",
       "      <th>340488</th>\n",
       "      <td>3400</td>\n",
       "      <td>100</td>\n",
       "      <td>150000</td>\n",
       "      <td>162</td>\n",
       "      <td>4</td>\n",
       "      <td>0</td>\n",
       "      <td>1</td>\n",
       "      <td>0</td>\n",
       "      <td>1</td>\n",
       "      <td>0</td>\n",
       "      <td>...</td>\n",
       "      <td>0</td>\n",
       "      <td>0</td>\n",
       "      <td>0</td>\n",
       "      <td>0</td>\n",
       "      <td>0</td>\n",
       "      <td>0</td>\n",
       "      <td>0</td>\n",
       "      <td>0</td>\n",
       "      <td>1</td>\n",
       "      <td>0</td>\n",
       "    </tr>\n",
       "    <tr>\n",
       "      <th>340489</th>\n",
       "      <td>28990</td>\n",
       "      <td>320</td>\n",
       "      <td>50000</td>\n",
       "      <td>28</td>\n",
       "      <td>15</td>\n",
       "      <td>0</td>\n",
       "      <td>1</td>\n",
       "      <td>1</td>\n",
       "      <td>0</td>\n",
       "      <td>0</td>\n",
       "      <td>...</td>\n",
       "      <td>0</td>\n",
       "      <td>0</td>\n",
       "      <td>0</td>\n",
       "      <td>0</td>\n",
       "      <td>0</td>\n",
       "      <td>0</td>\n",
       "      <td>0</td>\n",
       "      <td>0</td>\n",
       "      <td>0</td>\n",
       "      <td>0</td>\n",
       "    </tr>\n",
       "  </tbody>\n",
       "</table>\n",
       "<p>340490 rows × 317 columns</p>\n",
       "</div>"
      ],
      "text/plain": [
       "        price  powerPS  kilometer  car_month  online_days  gearbox_automatik  \\\n",
       "0         480      107     150000        276           14                  0   \n",
       "1       18300      190     125000         55           14                  0   \n",
       "2        9800      163     125000        136           22                  1   \n",
       "3        1500       75     150000        174            6                  0   \n",
       "4        3600       69      90000         89            6                  0   \n",
       "...       ...      ...        ...        ...          ...                ...   \n",
       "340485   2200      107      20000        131           23                  0   \n",
       "340486   1199      101     125000        189            6                  1   \n",
       "340487   9200      102     150000        237           19                  0   \n",
       "340488   3400      100     150000        162            4                  0   \n",
       "340489  28990      320      50000         28           15                  0   \n",
       "\n",
       "        gearbox_manuell  abtest_control  abtest_test  notRepairedDamage_ja  \\\n",
       "0                     1               0            1                     1   \n",
       "1                     1               0            1                     1   \n",
       "2                     0               0            1                     1   \n",
       "3                     1               0            1                     0   \n",
       "4                     1               0            1                     0   \n",
       "...                 ...             ...          ...                   ...   \n",
       "340485                1               0            1                     0   \n",
       "340486                0               0            1                     0   \n",
       "340487                1               0            1                     0   \n",
       "340488                1               0            1                     0   \n",
       "340489                1               1            0                     0   \n",
       "\n",
       "        ...  brand_seat  brand_skoda  brand_smart  brand_sonstige_autos  \\\n",
       "0       ...           0            0            0                     0   \n",
       "1       ...           0            0            0                     0   \n",
       "2       ...           0            0            0                     0   \n",
       "3       ...           0            0            0                     0   \n",
       "4       ...           0            1            0                     0   \n",
       "...     ...         ...          ...          ...                   ...   \n",
       "340485  ...           0            0            0                     1   \n",
       "340486  ...           0            0            1                     0   \n",
       "340487  ...           0            0            0                     0   \n",
       "340488  ...           0            0            0                     0   \n",
       "340489  ...           0            0            0                     0   \n",
       "\n",
       "        brand_subaru  brand_suzuki  brand_toyota  brand_trabant  \\\n",
       "0                  0             0             0              0   \n",
       "1                  0             0             0              0   \n",
       "2                  0             0             0              0   \n",
       "3                  0             0             0              0   \n",
       "4                  0             0             0              0   \n",
       "...              ...           ...           ...            ...   \n",
       "340485             0             0             0              0   \n",
       "340486             0             0             0              0   \n",
       "340487             0             0             0              0   \n",
       "340488             0             0             0              0   \n",
       "340489             0             0             0              0   \n",
       "\n",
       "        brand_volkswagen  brand_volvo  \n",
       "0                      1            0  \n",
       "1                      0            0  \n",
       "2                      0            0  \n",
       "3                      1            0  \n",
       "4                      0            0  \n",
       "...                  ...          ...  \n",
       "340485                 0            0  \n",
       "340486                 0            0  \n",
       "340487                 1            0  \n",
       "340488                 1            0  \n",
       "340489                 0            0  \n",
       "\n",
       "[340490 rows x 317 columns]"
      ]
     },
     "execution_count": 44,
     "metadata": {},
     "output_type": "execute_result"
    }
   ],
   "source": [
    "tmp"
   ]
  },
  {
   "cell_type": "code",
   "execution_count": 45,
   "id": "9fff3177",
   "metadata": {},
   "outputs": [],
   "source": [
    "tmp.to_csv('car_data_get_dummies.csv', index=0)"
   ]
  }
 ],
 "metadata": {
  "kernelspec": {
   "display_name": "Python 3 (ipykernel)",
   "language": "python",
   "name": "python3"
  },
  "language_info": {
   "codemirror_mode": {
    "name": "ipython",
    "version": 3
   },
   "file_extension": ".py",
   "mimetype": "text/x-python",
   "name": "python",
   "nbconvert_exporter": "python",
   "pygments_lexer": "ipython3",
   "version": "3.9.7"
  }
 },
 "nbformat": 4,
 "nbformat_minor": 5
}
